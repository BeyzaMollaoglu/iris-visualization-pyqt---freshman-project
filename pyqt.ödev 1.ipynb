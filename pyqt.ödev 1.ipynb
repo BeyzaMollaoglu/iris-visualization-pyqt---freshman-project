{
 "cells": [
  {
   "cell_type": "code",
   "execution_count": 1,
   "id": "86dd8304",
   "metadata": {},
   "outputs": [
    {
     "data": {
      "text/plain": [
       "0"
      ]
     },
     "execution_count": 1,
     "metadata": {},
     "output_type": "execute_result"
    }
   ],
   "source": [
    "from PyQt5.QtWidgets import*\n",
    "from PyQt5.QtCore import*\n",
    "\n",
    "\n",
    "class first_GUI(QWidget):\n",
    "    def __init__(self):\n",
    "        QWidget.__init__(self)\n",
    "\n",
    "        self.label_text = QLabel(\"Merhaba =^_^=\")\n",
    "        self.label_text.setAlignment(Qt.AlignCenter)\n",
    "        self.label_text.setStyleSheet(\"color: rgb(0,0,255);font-weight: bold; font-size: 16pt\")\n",
    "\n",
    "        pushButton_clear = QPushButton(\"Kediyi besleme\")\n",
    "        pushButton_clear.setMinimumHeight(40)\n",
    "        pushButton_clear.setStyleSheet(\"font-weight: bold; font-size: 16pt\")\n",
    "        pushButton_show = QPushButton(\"Kediyi besle\")\n",
    "        pushButton_show.setMinimumHeight(40)\n",
    "        pushButton_show.setStyleSheet(\"font-weight: bold; font-size: 16pt\")\n",
    "        pushButton_clear.clicked.connect(self.clear_text)\n",
    "        pushButton_show.clicked.connect(self.show_text)\n",
    "\n",
    "        vertical_layout = QVBoxLayout()\n",
    "        vertical_layout.addWidget(self.label_text)\n",
    "        vertical_layout.addWidget(pushButton_clear)\n",
    "        vertical_layout.addWidget(pushButton_show)\n",
    "\n",
    "        self.setLayout(vertical_layout)\n",
    "        self.setWindowTitle(\"PyQt5 first GUI\")\n",
    "        self.resize(400,300)\n",
    "\n",
    "\n",
    "    def clear_text(self):\n",
    "        self.label_text.setText(\"Onu beslemedin ve kedi kaçtı.\")\n",
    "\n",
    "    def show_text(self):\n",
    "        self.label_text.setText(\"<3 Beni düşündüğün için teşekkürler. =^_^= <3\")\n",
    "        \n",
    "app = QApplication([])\n",
    "widget = first_GUI()\n",
    "widget.show()\n",
    "app.exec_()        "
   ]
  }
 ],
 "metadata": {
  "kernelspec": {
   "display_name": "Python 3 (ipykernel)",
   "language": "python",
   "name": "python3"
  },
  "language_info": {
   "codemirror_mode": {
    "name": "ipython",
    "version": 3
   },
   "file_extension": ".py",
   "mimetype": "text/x-python",
   "name": "python",
   "nbconvert_exporter": "python",
   "pygments_lexer": "ipython3",
   "version": "3.9.12"
  }
 },
 "nbformat": 4,
 "nbformat_minor": 5
}
